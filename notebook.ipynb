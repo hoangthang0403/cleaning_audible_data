{
 "cells": [
  {
   "cell_type": "code",
   "execution_count": 1,
   "id": "initial_id",
   "metadata": {
    "collapsed": true,
    "ExecuteTime": {
     "end_time": "2024-05-14T03:31:08.914120800Z",
     "start_time": "2024-05-14T03:31:07.548698100Z"
    }
   },
   "outputs": [],
   "source": [
    "import pandas as pd\n",
    "import numpy as np\n",
    "import matplotlib.pyplot as plt"
   ]
  },
  {
   "cell_type": "code",
   "execution_count": 2,
   "outputs": [
    {
     "data": {
      "text/plain": "                                         name                     author  \\\n0                  Geronimo Stilton #11 & #12  Writtenby:GeronimoStilton   \n1                            The Burning Maze      Writtenby:RickRiordan   \n2                                The Deep End       Writtenby:JeffKinney   \n3                        Daughter of the Deep      Writtenby:RickRiordan   \n4  The Lightning Thief: Percy Jackson, Book 1      Writtenby:RickRiordan   \n\n                    narrator                time releasedate language  \\\n0      Narratedby:BillLobely   2 hrs and 20 mins    04-08-08  English   \n1   Narratedby:RobbieDaymond   13 hrs and 8 mins    01-05-18  English   \n2      Narratedby:DanRussell    2 hrs and 3 mins    06-11-20  English   \n3  Narratedby:SoneelaNankani  11 hrs and 16 mins    05-10-21  English   \n4  Narratedby:JesseBernstein              10 hrs    13-01-10  English   \n\n                           stars   price  \n0     5 out of 5 stars34 ratings  468.00  \n1   4.5 out of 5 stars41 ratings  820.00  \n2   4.5 out of 5 stars38 ratings  410.00  \n3   4.5 out of 5 stars12 ratings  615.00  \n4  4.5 out of 5 stars181 ratings  820.00  ",
      "text/html": "<div>\n<style scoped>\n    .dataframe tbody tr th:only-of-type {\n        vertical-align: middle;\n    }\n\n    .dataframe tbody tr th {\n        vertical-align: top;\n    }\n\n    .dataframe thead th {\n        text-align: right;\n    }\n</style>\n<table border=\"1\" class=\"dataframe\">\n  <thead>\n    <tr style=\"text-align: right;\">\n      <th></th>\n      <th>name</th>\n      <th>author</th>\n      <th>narrator</th>\n      <th>time</th>\n      <th>releasedate</th>\n      <th>language</th>\n      <th>stars</th>\n      <th>price</th>\n    </tr>\n  </thead>\n  <tbody>\n    <tr>\n      <th>0</th>\n      <td>Geronimo Stilton #11 &amp; #12</td>\n      <td>Writtenby:GeronimoStilton</td>\n      <td>Narratedby:BillLobely</td>\n      <td>2 hrs and 20 mins</td>\n      <td>04-08-08</td>\n      <td>English</td>\n      <td>5 out of 5 stars34 ratings</td>\n      <td>468.00</td>\n    </tr>\n    <tr>\n      <th>1</th>\n      <td>The Burning Maze</td>\n      <td>Writtenby:RickRiordan</td>\n      <td>Narratedby:RobbieDaymond</td>\n      <td>13 hrs and 8 mins</td>\n      <td>01-05-18</td>\n      <td>English</td>\n      <td>4.5 out of 5 stars41 ratings</td>\n      <td>820.00</td>\n    </tr>\n    <tr>\n      <th>2</th>\n      <td>The Deep End</td>\n      <td>Writtenby:JeffKinney</td>\n      <td>Narratedby:DanRussell</td>\n      <td>2 hrs and 3 mins</td>\n      <td>06-11-20</td>\n      <td>English</td>\n      <td>4.5 out of 5 stars38 ratings</td>\n      <td>410.00</td>\n    </tr>\n    <tr>\n      <th>3</th>\n      <td>Daughter of the Deep</td>\n      <td>Writtenby:RickRiordan</td>\n      <td>Narratedby:SoneelaNankani</td>\n      <td>11 hrs and 16 mins</td>\n      <td>05-10-21</td>\n      <td>English</td>\n      <td>4.5 out of 5 stars12 ratings</td>\n      <td>615.00</td>\n    </tr>\n    <tr>\n      <th>4</th>\n      <td>The Lightning Thief: Percy Jackson, Book 1</td>\n      <td>Writtenby:RickRiordan</td>\n      <td>Narratedby:JesseBernstein</td>\n      <td>10 hrs</td>\n      <td>13-01-10</td>\n      <td>English</td>\n      <td>4.5 out of 5 stars181 ratings</td>\n      <td>820.00</td>\n    </tr>\n  </tbody>\n</table>\n</div>"
     },
     "execution_count": 2,
     "metadata": {},
     "output_type": "execute_result"
    }
   ],
   "source": [
    "\"\"\"Task 1: Loading and Inspecting the Data\"\"\"\n",
    "# Load the audible_raw.csv file\n",
    "audible = pd.read_csv(\"audible_raw.csv\")\n",
    "\n",
    "# View the first rows of the dataframe\n",
    "audible.head()"
   ],
   "metadata": {
    "collapsed": false,
    "ExecuteTime": {
     "end_time": "2024-05-14T03:31:17.455431500Z",
     "start_time": "2024-05-14T03:31:16.411203300Z"
    }
   },
   "id": "3c9c08b5b399f0c5"
  },
  {
   "cell_type": "code",
   "execution_count": 3,
   "outputs": [
    {
     "name": "stdout",
     "output_type": "stream",
     "text": [
      "<class 'pandas.core.frame.DataFrame'>\n",
      "RangeIndex: 87489 entries, 0 to 87488\n",
      "Data columns (total 8 columns):\n",
      " #   Column       Non-Null Count  Dtype \n",
      "---  ------       --------------  ----- \n",
      " 0   name         87489 non-null  object\n",
      " 1   author       87489 non-null  object\n",
      " 2   narrator     87489 non-null  object\n",
      " 3   time         87489 non-null  object\n",
      " 4   releasedate  87489 non-null  object\n",
      " 5   language     87489 non-null  object\n",
      " 6   stars        87489 non-null  object\n",
      " 7   price        87489 non-null  object\n",
      "dtypes: object(8)\n",
      "memory usage: 5.3+ MB\n"
     ]
    }
   ],
   "source": [
    "# Inspect the columns' data types\n",
    "audible.info()"
   ],
   "metadata": {
    "collapsed": false,
    "ExecuteTime": {
     "end_time": "2024-05-14T03:31:20.773443Z",
     "start_time": "2024-05-14T03:31:20.612442500Z"
    }
   },
   "id": "4bdb9956cbdb1bde"
  },
  {
   "cell_type": "code",
   "execution_count": 4,
   "outputs": [
    {
     "data": {
      "text/plain": "                author        narrator\n0      GeronimoStilton      BillLobely\n1          RickRiordan   RobbieDaymond\n2           JeffKinney      DanRussell\n3          RickRiordan  SoneelaNankani\n4          RickRiordan  JesseBernstein\n...                ...             ...\n87484     ChrisStewart    ChrisStewart\n87485    StephenO'Shea      RobertFass\n87486        MarkTwain       FloGibson\n87487   LaurenceSterne     AntonLesser\n87488    MarkKurlansky     FleetCooper\n\n[87489 rows x 2 columns]",
      "text/html": "<div>\n<style scoped>\n    .dataframe tbody tr th:only-of-type {\n        vertical-align: middle;\n    }\n\n    .dataframe tbody tr th {\n        vertical-align: top;\n    }\n\n    .dataframe thead th {\n        text-align: right;\n    }\n</style>\n<table border=\"1\" class=\"dataframe\">\n  <thead>\n    <tr style=\"text-align: right;\">\n      <th></th>\n      <th>author</th>\n      <th>narrator</th>\n    </tr>\n  </thead>\n  <tbody>\n    <tr>\n      <th>0</th>\n      <td>GeronimoStilton</td>\n      <td>BillLobely</td>\n    </tr>\n    <tr>\n      <th>1</th>\n      <td>RickRiordan</td>\n      <td>RobbieDaymond</td>\n    </tr>\n    <tr>\n      <th>2</th>\n      <td>JeffKinney</td>\n      <td>DanRussell</td>\n    </tr>\n    <tr>\n      <th>3</th>\n      <td>RickRiordan</td>\n      <td>SoneelaNankani</td>\n    </tr>\n    <tr>\n      <th>4</th>\n      <td>RickRiordan</td>\n      <td>JesseBernstein</td>\n    </tr>\n    <tr>\n      <th>...</th>\n      <td>...</td>\n      <td>...</td>\n    </tr>\n    <tr>\n      <th>87484</th>\n      <td>ChrisStewart</td>\n      <td>ChrisStewart</td>\n    </tr>\n    <tr>\n      <th>87485</th>\n      <td>StephenO'Shea</td>\n      <td>RobertFass</td>\n    </tr>\n    <tr>\n      <th>87486</th>\n      <td>MarkTwain</td>\n      <td>FloGibson</td>\n    </tr>\n    <tr>\n      <th>87487</th>\n      <td>LaurenceSterne</td>\n      <td>AntonLesser</td>\n    </tr>\n    <tr>\n      <th>87488</th>\n      <td>MarkKurlansky</td>\n      <td>FleetCooper</td>\n    </tr>\n  </tbody>\n</table>\n<p>87489 rows × 2 columns</p>\n</div>"
     },
     "execution_count": 4,
     "metadata": {},
     "output_type": "execute_result"
    }
   ],
   "source": [
    "\"\"\"Task 2: Clean text data in Author and Narrator columns\"\"\"\n",
    "# Remove Writtenby: from the author column\n",
    "audible['author'] = audible['author'].str.replace('Writtenby:', '')\n",
    "# Remove Narratedby: from the narrator column\n",
    "audible['narrator'] = audible['narrator'].str.replace('Narratedby:', '')\n",
    "audible[['author','narrator']]\n"
   ],
   "metadata": {
    "collapsed": false,
    "ExecuteTime": {
     "end_time": "2024-05-14T03:31:28.876152100Z",
     "start_time": "2024-05-14T03:31:28.734165Z"
    }
   },
   "id": "5e5142d514a7face"
  },
  {
   "cell_type": "code",
   "execution_count": 8,
   "outputs": [
    {
     "data": {
      "text/plain": "48952                   Not rated yet\n44161       4 out of 5 stars2 ratings\n42703                   Not rated yet\n65473                   Not rated yet\n35269                   Not rated yet\n37936                   Not rated yet\n53282                   Not rated yet\n68238                   Not rated yet\n8349                    Not rated yet\n62758    4.5 out of 5 stars33 ratings\nName: stars, dtype: object"
     },
     "execution_count": 8,
     "metadata": {},
     "output_type": "execute_result"
    }
   ],
   "source": [
    "\"\"\"Task 3: Extract number of stars and ratings from Stars column.\"\"\"\n",
    "# Get a glimpse of the stars column\n",
    "audible.stars.sample(n=10)"
   ],
   "metadata": {
    "collapsed": false,
    "ExecuteTime": {
     "end_time": "2024-05-14T03:32:23.915463300Z",
     "start_time": "2024-05-14T03:32:23.880188Z"
    }
   },
   "id": "ba6d8f4bb770c06a"
  },
  {
   "cell_type": "code",
   "execution_count": 9,
   "outputs": [
    {
     "data": {
      "text/plain": "41128       5 out of 5 stars2 ratings\n79168     4.5 out of 5 stars5 ratings\n29401    4.5 out of 5 stars98 ratings\n2268        5 out of 5 stars4 ratings\n85859       4 out of 5 stars2 ratings\n69605    4.5 out of 5 stars10 ratings\n63696       4 out of 5 stars2 ratings\n27850     4.5 out of 5 stars3 ratings\n8511         5 out of 5 stars1 rating\n51336    4.5 out of 5 stars14 ratings\nName: stars, dtype: object"
     },
     "execution_count": 9,
     "metadata": {},
     "output_type": "execute_result"
    }
   ],
   "source": [
    "# Explore the values of the star column that are not 'Not rated yet'\n",
    "audible[audible.stars != 'Not rated yet'].stars.sample(n=10)"
   ],
   "metadata": {
    "collapsed": false,
    "ExecuteTime": {
     "end_time": "2024-05-14T03:32:31.806644900Z",
     "start_time": "2024-05-14T03:32:31.777578700Z"
    }
   },
   "id": "5f9992fd2c8c4011"
  },
  {
   "cell_type": "code",
   "execution_count": 10,
   "outputs": [
    {
     "data": {
      "text/plain": "       rating_stars  n_ratings\n0               5.0       34.0\n1               4.5       41.0\n2               4.5       38.0\n3               4.5       12.0\n4               4.5      181.0\n...             ...        ...\n87484           NaN        NaN\n87485           NaN        NaN\n87486           NaN        NaN\n87487           NaN        NaN\n87488           NaN        NaN\n\n[87489 rows x 2 columns]",
      "text/html": "<div>\n<style scoped>\n    .dataframe tbody tr th:only-of-type {\n        vertical-align: middle;\n    }\n\n    .dataframe tbody tr th {\n        vertical-align: top;\n    }\n\n    .dataframe thead th {\n        text-align: right;\n    }\n</style>\n<table border=\"1\" class=\"dataframe\">\n  <thead>\n    <tr style=\"text-align: right;\">\n      <th></th>\n      <th>rating_stars</th>\n      <th>n_ratings</th>\n    </tr>\n  </thead>\n  <tbody>\n    <tr>\n      <th>0</th>\n      <td>5.0</td>\n      <td>34.0</td>\n    </tr>\n    <tr>\n      <th>1</th>\n      <td>4.5</td>\n      <td>41.0</td>\n    </tr>\n    <tr>\n      <th>2</th>\n      <td>4.5</td>\n      <td>38.0</td>\n    </tr>\n    <tr>\n      <th>3</th>\n      <td>4.5</td>\n      <td>12.0</td>\n    </tr>\n    <tr>\n      <th>4</th>\n      <td>4.5</td>\n      <td>181.0</td>\n    </tr>\n    <tr>\n      <th>...</th>\n      <td>...</td>\n      <td>...</td>\n    </tr>\n    <tr>\n      <th>87484</th>\n      <td>NaN</td>\n      <td>NaN</td>\n    </tr>\n    <tr>\n      <th>87485</th>\n      <td>NaN</td>\n      <td>NaN</td>\n    </tr>\n    <tr>\n      <th>87486</th>\n      <td>NaN</td>\n      <td>NaN</td>\n    </tr>\n    <tr>\n      <th>87487</th>\n      <td>NaN</td>\n      <td>NaN</td>\n    </tr>\n    <tr>\n      <th>87488</th>\n      <td>NaN</td>\n      <td>NaN</td>\n    </tr>\n  </tbody>\n</table>\n<p>87489 rows × 2 columns</p>\n</div>"
     },
     "execution_count": 10,
     "metadata": {},
     "output_type": "execute_result"
    }
   ],
   "source": [
    "# Replace 'Not rated yet' with NaN\n",
    "audible.stars.replace('Not rated yet', np.nan, inplace=True)\n",
    "\n",
    "# Extract number of stars into rating_stars and turn into float\n",
    "audible['rating_stars'] = audible['stars'].str.extract('^([\\d.]+)').astype(float)\n",
    "\n",
    "# Replace the comma, extract number of ratings into n_ratings and turn into float\n",
    "audible['n_ratings'] = audible['stars'].str.replace(',', '').str.extract('(\\d+) rating').astype(float)\n",
    "\n",
    "# Examine the new rating_stars and n_ratings columns\n",
    "audible[['rating_stars', 'n_ratings']]\n"
   ],
   "metadata": {
    "collapsed": false,
    "ExecuteTime": {
     "end_time": "2024-05-14T03:32:38.361318900Z",
     "start_time": "2024-05-14T03:32:38.145555Z"
    }
   },
   "id": "f246447d5e59986f"
  },
  {
   "cell_type": "code",
   "execution_count": 11,
   "outputs": [
    {
     "data": {
      "text/plain": "                                             name           author  \\\n0                      Geronimo Stilton #11 & #12  GeronimoStilton   \n1                                The Burning Maze      RickRiordan   \n2                                    The Deep End       JeffKinney   \n3                            Daughter of the Deep      RickRiordan   \n4      The Lightning Thief: Percy Jackson, Book 1      RickRiordan   \n...                                           ...              ...   \n87484                   Last Days of the Bus Club     ChrisStewart   \n87485                                    The Alps    StephenO'Shea   \n87486                        The Innocents Abroad        MarkTwain   \n87487                       A Sentimental Journey   LaurenceSterne   \n87488                                      Havana    MarkKurlansky   \n\n             narrator                time releasedate language   price  \\\n0          BillLobely   2 hrs and 20 mins    04-08-08  English  468.00   \n1       RobbieDaymond   13 hrs and 8 mins    01-05-18  English  820.00   \n2          DanRussell    2 hrs and 3 mins    06-11-20  English  410.00   \n3      SoneelaNankani  11 hrs and 16 mins    05-10-21  English  615.00   \n4      JesseBernstein              10 hrs    13-01-10  English  820.00   \n...               ...                 ...         ...      ...     ...   \n87484    ChrisStewart   7 hrs and 34 mins    09-03-17  English  596.00   \n87485      RobertFass   10 hrs and 7 mins    21-02-17  English  820.00   \n87486       FloGibson   19 hrs and 4 mins    30-12-16  English  938.00   \n87487     AntonLesser    4 hrs and 8 mins    23-02-11  English  680.00   \n87488     FleetCooper     6 hrs and 1 min    07-03-17  English  569.00   \n\n       rating_stars  n_ratings  \n0               5.0       34.0  \n1               4.5       41.0  \n2               4.5       38.0  \n3               4.5       12.0  \n4               4.5      181.0  \n...             ...        ...  \n87484           NaN        NaN  \n87485           NaN        NaN  \n87486           NaN        NaN  \n87487           NaN        NaN  \n87488           NaN        NaN  \n\n[87489 rows x 9 columns]",
      "text/html": "<div>\n<style scoped>\n    .dataframe tbody tr th:only-of-type {\n        vertical-align: middle;\n    }\n\n    .dataframe tbody tr th {\n        vertical-align: top;\n    }\n\n    .dataframe thead th {\n        text-align: right;\n    }\n</style>\n<table border=\"1\" class=\"dataframe\">\n  <thead>\n    <tr style=\"text-align: right;\">\n      <th></th>\n      <th>name</th>\n      <th>author</th>\n      <th>narrator</th>\n      <th>time</th>\n      <th>releasedate</th>\n      <th>language</th>\n      <th>price</th>\n      <th>rating_stars</th>\n      <th>n_ratings</th>\n    </tr>\n  </thead>\n  <tbody>\n    <tr>\n      <th>0</th>\n      <td>Geronimo Stilton #11 &amp; #12</td>\n      <td>GeronimoStilton</td>\n      <td>BillLobely</td>\n      <td>2 hrs and 20 mins</td>\n      <td>04-08-08</td>\n      <td>English</td>\n      <td>468.00</td>\n      <td>5.0</td>\n      <td>34.0</td>\n    </tr>\n    <tr>\n      <th>1</th>\n      <td>The Burning Maze</td>\n      <td>RickRiordan</td>\n      <td>RobbieDaymond</td>\n      <td>13 hrs and 8 mins</td>\n      <td>01-05-18</td>\n      <td>English</td>\n      <td>820.00</td>\n      <td>4.5</td>\n      <td>41.0</td>\n    </tr>\n    <tr>\n      <th>2</th>\n      <td>The Deep End</td>\n      <td>JeffKinney</td>\n      <td>DanRussell</td>\n      <td>2 hrs and 3 mins</td>\n      <td>06-11-20</td>\n      <td>English</td>\n      <td>410.00</td>\n      <td>4.5</td>\n      <td>38.0</td>\n    </tr>\n    <tr>\n      <th>3</th>\n      <td>Daughter of the Deep</td>\n      <td>RickRiordan</td>\n      <td>SoneelaNankani</td>\n      <td>11 hrs and 16 mins</td>\n      <td>05-10-21</td>\n      <td>English</td>\n      <td>615.00</td>\n      <td>4.5</td>\n      <td>12.0</td>\n    </tr>\n    <tr>\n      <th>4</th>\n      <td>The Lightning Thief: Percy Jackson, Book 1</td>\n      <td>RickRiordan</td>\n      <td>JesseBernstein</td>\n      <td>10 hrs</td>\n      <td>13-01-10</td>\n      <td>English</td>\n      <td>820.00</td>\n      <td>4.5</td>\n      <td>181.0</td>\n    </tr>\n    <tr>\n      <th>...</th>\n      <td>...</td>\n      <td>...</td>\n      <td>...</td>\n      <td>...</td>\n      <td>...</td>\n      <td>...</td>\n      <td>...</td>\n      <td>...</td>\n      <td>...</td>\n    </tr>\n    <tr>\n      <th>87484</th>\n      <td>Last Days of the Bus Club</td>\n      <td>ChrisStewart</td>\n      <td>ChrisStewart</td>\n      <td>7 hrs and 34 mins</td>\n      <td>09-03-17</td>\n      <td>English</td>\n      <td>596.00</td>\n      <td>NaN</td>\n      <td>NaN</td>\n    </tr>\n    <tr>\n      <th>87485</th>\n      <td>The Alps</td>\n      <td>StephenO'Shea</td>\n      <td>RobertFass</td>\n      <td>10 hrs and 7 mins</td>\n      <td>21-02-17</td>\n      <td>English</td>\n      <td>820.00</td>\n      <td>NaN</td>\n      <td>NaN</td>\n    </tr>\n    <tr>\n      <th>87486</th>\n      <td>The Innocents Abroad</td>\n      <td>MarkTwain</td>\n      <td>FloGibson</td>\n      <td>19 hrs and 4 mins</td>\n      <td>30-12-16</td>\n      <td>English</td>\n      <td>938.00</td>\n      <td>NaN</td>\n      <td>NaN</td>\n    </tr>\n    <tr>\n      <th>87487</th>\n      <td>A Sentimental Journey</td>\n      <td>LaurenceSterne</td>\n      <td>AntonLesser</td>\n      <td>4 hrs and 8 mins</td>\n      <td>23-02-11</td>\n      <td>English</td>\n      <td>680.00</td>\n      <td>NaN</td>\n      <td>NaN</td>\n    </tr>\n    <tr>\n      <th>87488</th>\n      <td>Havana</td>\n      <td>MarkKurlansky</td>\n      <td>FleetCooper</td>\n      <td>6 hrs and 1 min</td>\n      <td>07-03-17</td>\n      <td>English</td>\n      <td>569.00</td>\n      <td>NaN</td>\n      <td>NaN</td>\n    </tr>\n  </tbody>\n</table>\n<p>87489 rows × 9 columns</p>\n</div>"
     },
     "execution_count": 11,
     "metadata": {},
     "output_type": "execute_result"
    }
   ],
   "source": [
    "# Drop the stars column\n",
    "audible.drop('stars', axis=1, inplace=True)\n",
    "\n",
    "# Check the results\n",
    "audible"
   ],
   "metadata": {
    "collapsed": false,
    "ExecuteTime": {
     "end_time": "2024-05-14T03:34:34.753940Z",
     "start_time": "2024-05-14T03:34:34.665065300Z"
    }
   },
   "id": "cd196a0202927c11"
  },
  {
   "cell_type": "code",
   "execution_count": 12,
   "outputs": [
    {
     "data": {
      "text/plain": "35458      535.00\n14686      569.00\n6531     1,172.00\n64709      100.00\n77513    1,172.00\n65490      505.00\n36282      586.00\n53027      334.00\n24118      500.00\n77443    1,172.00\nName: price, dtype: object"
     },
     "execution_count": 12,
     "metadata": {},
     "output_type": "execute_result"
    }
   ],
   "source": [
    "\"\"\"Task 4: Change data types\"\"\"\n",
    "\n",
    "# Explore the price column\n",
    "audible.price.sample(n=10)"
   ],
   "metadata": {
    "collapsed": false,
    "ExecuteTime": {
     "end_time": "2024-05-14T03:34:41.302649700Z",
     "start_time": "2024-05-14T03:34:41.232135100Z"
    }
   },
   "id": "42193646eb71afd3"
  },
  {
   "cell_type": "code",
   "execution_count": 13,
   "outputs": [
    {
     "data": {
      "text/plain": "array([5. , 4.5, 4. , nan, 3.5, 3. , 1. , 2. , 2.5, 1.5])"
     },
     "execution_count": 13,
     "metadata": {},
     "output_type": "execute_result"
    }
   ],
   "source": [
    "# Replace the comma with ''\n",
    "audible['price'] = audible.price.str.replace(',', '')\n",
    "\n",
    "# Replace 'Free' with 0\n",
    "audible['price'] = audible.price.str.replace('Free', '0')\n",
    "\n",
    "# Turn price to float\n",
    "audible['price'] = audible.price.astype(float)\n",
    "\n",
    "# Look at the unique values in the rating_stars column\n",
    "audible.rating_stars.unique()"
   ],
   "metadata": {
    "collapsed": false,
    "ExecuteTime": {
     "end_time": "2024-05-14T03:34:57.016009800Z",
     "start_time": "2024-05-14T03:34:56.917036100Z"
    }
   },
   "id": "cbe3230ed433a8be"
  },
  {
   "cell_type": "code",
   "execution_count": 14,
   "outputs": [
    {
     "data": {
      "text/plain": "62200     2 hrs and 50 mins\n75189     9 hrs and 35 mins\n38007    31 hrs and 37 mins\n12666        1 hr and 1 min\n26278     8 hrs and 56 mins\n37891     7 hrs and 11 mins\n65121      8 hrs and 4 mins\n82059     4 hrs and 10 mins\n69586    11 hrs and 22 mins\n43258      1 hr and 52 mins\nName: time, dtype: object"
     },
     "execution_count": 14,
     "metadata": {},
     "output_type": "execute_result"
    }
   ],
   "source": [
    "\"\"\"Task 5: Extract hours and minutes from the time column\"\"\"\n",
    "\n",
    "# Explore the values in the time column\n",
    "audible.time.sample(n=10)"
   ],
   "metadata": {
    "collapsed": false,
    "ExecuteTime": {
     "end_time": "2024-05-14T03:35:01.290174700Z",
     "start_time": "2024-05-14T03:35:01.262090200Z"
    }
   },
   "id": "9530e7674dd81250"
  },
  {
   "cell_type": "code",
   "execution_count": 15,
   "outputs": [
    {
     "data": {
      "text/plain": "6646     7 hrs and 42 mins\n71354    3 hrs and 10 mins\n24151    6 hrs and 14 mins\n33955    9 hrs and 38 mins\n4221                5 mins\n33479     5 hrs and 7 mins\n3358                2 mins\n18335    9 hrs and 11 mins\n51791    3 hrs and 55 mins\n18634    9 hrs and 24 mins\nName: time, dtype: object"
     },
     "execution_count": 15,
     "metadata": {},
     "output_type": "execute_result"
    }
   ],
   "source": [
    "# Search the entries in the time column for different spellings of min. Let' try min, mins, minutes\n",
    "audible.time[audible.time.str.contains('min')].sample(n=10)"
   ],
   "metadata": {
    "collapsed": false,
    "ExecuteTime": {
     "end_time": "2024-05-14T03:35:07.025657800Z",
     "start_time": "2024-05-14T03:35:06.918991200Z"
    }
   },
   "id": "3ca40f5f9f3e36b0"
  },
  {
   "cell_type": "code",
   "execution_count": 16,
   "outputs": [
    {
     "data": {
      "text/plain": "                   time\n0       2 hr and 20 min\n1       13 hr and 8 min\n2        2 hr and 3 min\n3      11 hr and 16 min\n4                 10 hr\n...                 ...\n87484   7 hr and 34 min\n87485   10 hr and 7 min\n87486   19 hr and 4 min\n87487    4 hr and 8 min\n87488    6 hr and 1 min\n\n[87489 rows x 1 columns]",
      "text/html": "<div>\n<style scoped>\n    .dataframe tbody tr th:only-of-type {\n        vertical-align: middle;\n    }\n\n    .dataframe tbody tr th {\n        vertical-align: top;\n    }\n\n    .dataframe thead th {\n        text-align: right;\n    }\n</style>\n<table border=\"1\" class=\"dataframe\">\n  <thead>\n    <tr style=\"text-align: right;\">\n      <th></th>\n      <th>time</th>\n    </tr>\n  </thead>\n  <tbody>\n    <tr>\n      <th>0</th>\n      <td>2 hr and 20 min</td>\n    </tr>\n    <tr>\n      <th>1</th>\n      <td>13 hr and 8 min</td>\n    </tr>\n    <tr>\n      <th>2</th>\n      <td>2 hr and 3 min</td>\n    </tr>\n    <tr>\n      <th>3</th>\n      <td>11 hr and 16 min</td>\n    </tr>\n    <tr>\n      <th>4</th>\n      <td>10 hr</td>\n    </tr>\n    <tr>\n      <th>...</th>\n      <td>...</td>\n    </tr>\n    <tr>\n      <th>87484</th>\n      <td>7 hr and 34 min</td>\n    </tr>\n    <tr>\n      <th>87485</th>\n      <td>10 hr and 7 min</td>\n    </tr>\n    <tr>\n      <th>87486</th>\n      <td>19 hr and 4 min</td>\n    </tr>\n    <tr>\n      <th>87487</th>\n      <td>4 hr and 8 min</td>\n    </tr>\n    <tr>\n      <th>87488</th>\n      <td>6 hr and 1 min</td>\n    </tr>\n  </tbody>\n</table>\n<p>87489 rows × 1 columns</p>\n</div>"
     },
     "execution_count": 16,
     "metadata": {},
     "output_type": "execute_result"
    }
   ],
   "source": [
    "# Replace hrs, mins, and 'Less than 1 minute'\n",
    "audible['time'] = audible.time.str.replace('hrs', 'hr')\n",
    "audible['time'] = audible.time.str.replace('mins', 'min')\n",
    "audible['time'] = audible.time.str.replace('Less than 1 minute', '1 min')\n",
    "\n",
    "# Check the results\n",
    "audible[['time']]"
   ],
   "metadata": {
    "collapsed": false,
    "ExecuteTime": {
     "end_time": "2024-05-14T03:35:31.944590900Z",
     "start_time": "2024-05-14T03:35:31.813079100Z"
    }
   },
   "id": "ddeb14bb93cfe351"
  },
  {
   "cell_type": "code",
   "execution_count": 17,
   "outputs": [
    {
     "data": {
      "text/plain": "       time_mins\n0            140\n1            788\n2            123\n3            676\n4            600\n...          ...\n87484        454\n87485        607\n87486       1144\n87487        248\n87488        361\n\n[87489 rows x 1 columns]",
      "text/html": "<div>\n<style scoped>\n    .dataframe tbody tr th:only-of-type {\n        vertical-align: middle;\n    }\n\n    .dataframe tbody tr th {\n        vertical-align: top;\n    }\n\n    .dataframe thead th {\n        text-align: right;\n    }\n</style>\n<table border=\"1\" class=\"dataframe\">\n  <thead>\n    <tr style=\"text-align: right;\">\n      <th></th>\n      <th>time_mins</th>\n    </tr>\n  </thead>\n  <tbody>\n    <tr>\n      <th>0</th>\n      <td>140</td>\n    </tr>\n    <tr>\n      <th>1</th>\n      <td>788</td>\n    </tr>\n    <tr>\n      <th>2</th>\n      <td>123</td>\n    </tr>\n    <tr>\n      <th>3</th>\n      <td>676</td>\n    </tr>\n    <tr>\n      <th>4</th>\n      <td>600</td>\n    </tr>\n    <tr>\n      <th>...</th>\n      <td>...</td>\n    </tr>\n    <tr>\n      <th>87484</th>\n      <td>454</td>\n    </tr>\n    <tr>\n      <th>87485</th>\n      <td>607</td>\n    </tr>\n    <tr>\n      <th>87486</th>\n      <td>1144</td>\n    </tr>\n    <tr>\n      <th>87487</th>\n      <td>248</td>\n    </tr>\n    <tr>\n      <th>87488</th>\n      <td>361</td>\n    </tr>\n  </tbody>\n</table>\n<p>87489 rows × 1 columns</p>\n</div>"
     },
     "execution_count": 17,
     "metadata": {},
     "output_type": "execute_result"
    }
   ],
   "source": [
    "# Extract the number of hours, turn to integer\n",
    "hours = audible['time'].str.extract('(\\d+) hr').fillna(0).astype(int)\n",
    "\n",
    "# Extract the number of minutes, turn to integer\n",
    "mins = audible['time'].str.extract('(\\d+) min').fillna(0).astype(int)\n",
    "\n",
    "# Combine hours and minutes into the time_mins column\n",
    "audible['time_mins'] = 60 * hours + mins\n",
    "\n",
    "# Check the results\n",
    "audible[['time_mins']]"
   ],
   "metadata": {
    "collapsed": false,
    "ExecuteTime": {
     "end_time": "2024-05-14T03:35:37.362820700Z",
     "start_time": "2024-05-14T03:35:36.908882800Z"
    }
   },
   "id": "9c655a5a9ef20dab"
  },
  {
   "cell_type": "code",
   "execution_count": 18,
   "outputs": [
    {
     "name": "stdout",
     "output_type": "stream",
     "text": [
      "<class 'pandas.core.frame.DataFrame'>\n",
      "RangeIndex: 87489 entries, 0 to 87488\n",
      "Data columns (total 9 columns):\n",
      " #   Column        Non-Null Count  Dtype  \n",
      "---  ------        --------------  -----  \n",
      " 0   name          87489 non-null  object \n",
      " 1   author        87489 non-null  object \n",
      " 2   narrator      87489 non-null  object \n",
      " 3   releasedate   87489 non-null  object \n",
      " 4   language      87489 non-null  object \n",
      " 5   price         87489 non-null  float64\n",
      " 6   rating_stars  15072 non-null  float64\n",
      " 7   n_ratings     15072 non-null  float64\n",
      " 8   time_mins     87489 non-null  int32  \n",
      "dtypes: float64(3), int32(1), object(5)\n",
      "memory usage: 5.7+ MB\n"
     ]
    }
   ],
   "source": [
    "# Drop the time column\n",
    "audible.drop(columns=['time'], axis=1, inplace=True)\n",
    "\n",
    "# Inspect the dataframe\n",
    "audible.info()"
   ],
   "metadata": {
    "collapsed": false,
    "ExecuteTime": {
     "end_time": "2024-05-14T03:36:06.940846800Z",
     "start_time": "2024-05-14T03:36:06.868048Z"
    }
   },
   "id": "1bcc8581eadcc6ff"
  },
  {
   "cell_type": "code",
   "execution_count": 19,
   "outputs": [
    {
     "data": {
      "text/plain": "<Figure size 1000x1000 with 4 Axes>",
      "image/png": "[encoded data removed]"
     },
     "metadata": {},
     "output_type": "display_data"
    }
   ],
   "source": [
    "\"\"\"Task 6: Check data ranges\"\"\"\n",
    "\n",
    "# Plot histograms of all the numerical columns\n",
    "audible.hist(figsize=(10,10), bins=100)\n",
    "plt.show()"
   ],
   "metadata": {
    "collapsed": false,
    "ExecuteTime": {
     "end_time": "2024-05-14T03:36:15.015967600Z",
     "start_time": "2024-05-14T03:36:12.967011200Z"
    }
   },
   "id": "e3a8b3ac9633e993"
  },
  {
   "cell_type": "code",
   "execution_count": 20,
   "outputs": [
    {
     "data": {
      "text/plain": "              price  rating_stars     n_ratings     time_mins\ncount  87489.000000   15072.00000  15072.000000  87489.000000\nmean     559.009246       4.45694     21.613190    417.497663\nstd      336.096642       0.72394    207.479634    364.559399\nmin        0.000000       1.00000      1.000000      1.000000\n25%      268.000000       4.00000      1.000000    142.000000\n50%      585.000000       4.50000      2.000000    386.000000\n75%      755.000000       5.00000      7.000000    584.000000\nmax     7198.000000       5.00000  12573.000000   8595.000000",
      "text/html": "<div>\n<style scoped>\n    .dataframe tbody tr th:only-of-type {\n        vertical-align: middle;\n    }\n\n    .dataframe tbody tr th {\n        vertical-align: top;\n    }\n\n    .dataframe thead th {\n        text-align: right;\n    }\n</style>\n<table border=\"1\" class=\"dataframe\">\n  <thead>\n    <tr style=\"text-align: right;\">\n      <th></th>\n      <th>price</th>\n      <th>rating_stars</th>\n      <th>n_ratings</th>\n      <th>time_mins</th>\n    </tr>\n  </thead>\n  <tbody>\n    <tr>\n      <th>count</th>\n      <td>87489.000000</td>\n      <td>15072.00000</td>\n      <td>15072.000000</td>\n      <td>87489.000000</td>\n    </tr>\n    <tr>\n      <th>mean</th>\n      <td>559.009246</td>\n      <td>4.45694</td>\n      <td>21.613190</td>\n      <td>417.497663</td>\n    </tr>\n    <tr>\n      <th>std</th>\n      <td>336.096642</td>\n      <td>0.72394</td>\n      <td>207.479634</td>\n      <td>364.559399</td>\n    </tr>\n    <tr>\n      <th>min</th>\n      <td>0.000000</td>\n      <td>1.00000</td>\n      <td>1.000000</td>\n      <td>1.000000</td>\n    </tr>\n    <tr>\n      <th>25%</th>\n      <td>268.000000</td>\n      <td>4.00000</td>\n      <td>1.000000</td>\n      <td>142.000000</td>\n    </tr>\n    <tr>\n      <th>50%</th>\n      <td>585.000000</td>\n      <td>4.50000</td>\n      <td>2.000000</td>\n      <td>386.000000</td>\n    </tr>\n    <tr>\n      <th>75%</th>\n      <td>755.000000</td>\n      <td>5.00000</td>\n      <td>7.000000</td>\n      <td>584.000000</td>\n    </tr>\n    <tr>\n      <th>max</th>\n      <td>7198.000000</td>\n      <td>5.00000</td>\n      <td>12573.000000</td>\n      <td>8595.000000</td>\n    </tr>\n  </tbody>\n</table>\n</div>"
     },
     "execution_count": 20,
     "metadata": {},
     "output_type": "execute_result"
    }
   ],
   "source": [
    "# Look at the numeric columns\n",
    "audible.describe()"
   ],
   "metadata": {
    "collapsed": false,
    "ExecuteTime": {
     "end_time": "2024-05-14T03:36:58.969692100Z",
     "start_time": "2024-05-14T03:36:58.892698800Z"
    }
   },
   "id": "5b72b936ad4ab4e2"
  },
  {
   "cell_type": "code",
   "execution_count": 21,
   "outputs": [
    {
     "data": {
      "text/plain": "                  name    author   narrator releasedate language\ncount            87489     87489      87489       87489    87489\nunique           82767     48374      29717        5058       36\ntop     The Art of War  矢島雅弘,石橋遊  anonymous    16-05-18  English\nfreq                20       874       1034         773    61884",
      "text/html": "<div>\n<style scoped>\n    .dataframe tbody tr th:only-of-type {\n        vertical-align: middle;\n    }\n\n    .dataframe tbody tr th {\n        vertical-align: top;\n    }\n\n    .dataframe thead th {\n        text-align: right;\n    }\n</style>\n<table border=\"1\" class=\"dataframe\">\n  <thead>\n    <tr style=\"text-align: right;\">\n      <th></th>\n      <th>name</th>\n      <th>author</th>\n      <th>narrator</th>\n      <th>releasedate</th>\n      <th>language</th>\n    </tr>\n  </thead>\n  <tbody>\n    <tr>\n      <th>count</th>\n      <td>87489</td>\n      <td>87489</td>\n      <td>87489</td>\n      <td>87489</td>\n      <td>87489</td>\n    </tr>\n    <tr>\n      <th>unique</th>\n      <td>82767</td>\n      <td>48374</td>\n      <td>29717</td>\n      <td>5058</td>\n      <td>36</td>\n    </tr>\n    <tr>\n      <th>top</th>\n      <td>The Art of War</td>\n      <td>矢島雅弘,石橋遊</td>\n      <td>anonymous</td>\n      <td>16-05-18</td>\n      <td>English</td>\n    </tr>\n    <tr>\n      <th>freq</th>\n      <td>20</td>\n      <td>874</td>\n      <td>1034</td>\n      <td>773</td>\n      <td>61884</td>\n    </tr>\n  </tbody>\n</table>\n</div>"
     },
     "execution_count": 21,
     "metadata": {},
     "output_type": "execute_result"
    }
   ],
   "source": [
    "# Look at the non numeric columns\n",
    "audible.describe(exclude=[np.number])"
   ],
   "metadata": {
    "collapsed": false,
    "ExecuteTime": {
     "end_time": "2024-05-14T03:37:06.379569400Z",
     "start_time": "2024-05-14T03:37:06.130015800Z"
    }
   },
   "id": "ed034913ee8f770c"
  },
  {
   "cell_type": "code",
   "execution_count": 22,
   "outputs": [
    {
     "data": {
      "text/plain": "count    87489.000000\nmean         6.708111\nstd          4.033160\nmin          0.000000\n25%          3.216000\n50%          7.020000\n75%          9.060000\nmax         86.376000\nName: price, dtype: float64"
     },
     "execution_count": 22,
     "metadata": {},
     "output_type": "execute_result"
    }
   ],
   "source": [
    "# Transform prices to USD (multiply times 0.012)\n",
    "audible['price'] = audible.price * .012\n",
    "\n",
    "# Check the results\n",
    "audible['price'].describe()"
   ],
   "metadata": {
    "collapsed": false,
    "ExecuteTime": {
     "end_time": "2024-05-14T03:37:17.917521900Z",
     "start_time": "2024-05-14T03:37:17.888025600Z"
    }
   },
   "id": "1ee424b95c269a0d"
  },
  {
   "cell_type": "code",
   "execution_count": 23,
   "outputs": [
    {
     "data": {
      "text/plain": "array(['English', 'Hindi', 'spanish', 'german', 'french', 'catalan',\n       'swedish', 'italian', 'danish', 'finnish', 'dutch', 'hebrew',\n       'russian', 'polish', 'galician', 'afrikaans', 'icelandic',\n       'romanian', 'japanese', 'tamil', 'portuguese', 'urdu', 'hungarian',\n       'czech', 'bulgarian', 'mandarin_chinese', 'basque', 'korean',\n       'arabic', 'greek', 'turkish', 'ukrainian', 'slovene', 'norwegian',\n       'telugu', 'lithuanian'], dtype=object)"
     },
     "execution_count": 23,
     "metadata": {},
     "output_type": "execute_result"
    }
   ],
   "source": [
    "# Inspect the language column before making changes\n",
    "audible.language.unique()"
   ],
   "metadata": {
    "collapsed": false,
    "ExecuteTime": {
     "end_time": "2024-05-14T03:37:22.788138800Z",
     "start_time": "2024-05-14T03:37:22.743777300Z"
    }
   },
   "id": "e73467ae575c6fef"
  },
  {
   "cell_type": "code",
   "execution_count": 24,
   "outputs": [
    {
     "data": {
      "text/plain": "array(['English', 'Hindi', 'Spanish', 'German', 'French', 'Catalan',\n       'Swedish', 'Italian', 'Danish', 'Finnish', 'Dutch', 'Hebrew',\n       'Russian', 'Polish', 'Galician', 'Afrikaans', 'Icelandic',\n       'Romanian', 'Japanese', 'Tamil', 'Portuguese', 'Urdu', 'Hungarian',\n       'Czech', 'Bulgarian', 'Mandarin_chinese', 'Basque', 'Korean',\n       'Arabic', 'Greek', 'Turkish', 'Ukrainian', 'Slovene', 'Norwegian',\n       'Telugu', 'Lithuanian'], dtype=object)"
     },
     "execution_count": 24,
     "metadata": {},
     "output_type": "execute_result"
    }
   ],
   "source": [
    "# Update capitalization in the language column\n",
    "audible['language'] = audible.language.str.capitalize()\n",
    "\n",
    "# Check the results\n",
    "audible.language.unique()"
   ],
   "metadata": {
    "collapsed": false,
    "ExecuteTime": {
     "end_time": "2024-05-14T03:37:28.436676100Z",
     "start_time": "2024-05-14T03:37:28.367999400Z"
    }
   },
   "id": "d0362cde3822f5ab"
  },
  {
   "cell_type": "code",
   "execution_count": 25,
   "outputs": [
    {
     "data": {
      "text/plain": "0"
     },
     "execution_count": 25,
     "metadata": {},
     "output_type": "execute_result"
    }
   ],
   "source": [
    "\"\"\"Task 7: Checking for duplicates\"\"\"\n",
    "\n",
    "# Look for duplicate rows\n",
    "audible.duplicated().sum()"
   ],
   "metadata": {
    "collapsed": false,
    "ExecuteTime": {
     "end_time": "2024-05-14T03:37:33.983646500Z",
     "start_time": "2024-05-14T03:37:33.836411400Z"
    }
   },
   "id": "fb6c3e0d84e6fa8f"
  },
  {
   "cell_type": "code",
   "execution_count": 26,
   "outputs": [
    {
     "data": {
      "text/plain": "70"
     },
     "execution_count": 26,
     "metadata": {},
     "output_type": "execute_result"
    }
   ],
   "source": [
    "# Create a list of our subset columns and assign to subset_cols\n",
    "subset_cols=['name', 'author', 'narrator', 'time_mins', 'price']\n",
    "\n",
    "# Check for duplicates using our subset of columns\n",
    "audible.duplicated(subset=subset_cols).sum()"
   ],
   "metadata": {
    "collapsed": false,
    "ExecuteTime": {
     "end_time": "2024-05-14T03:37:53.138369500Z",
     "start_time": "2024-05-14T03:37:53.013938Z"
    }
   },
   "id": "f1004bcd03193876"
  },
  {
   "cell_type": "code",
   "execution_count": 27,
   "outputs": [
    {
     "data": {
      "text/plain": "                                              name                    author  \\\n63978      \"Das Böse ist des Menschen beste Kraft\"         ChristianLiederer   \n63965      \"Das Böse ist des Menschen beste Kraft\"         ChristianLiederer   \n24625                         90 Minutes in Heaven     DonPiper,CecilMurphey   \n24116                         90 Minutes in Heaven     DonPiper,CecilMurphey   \n16971                                 Adagio in Dm                 BillBrown   \n...                                            ...                       ...   \n18338  What I Talk About When I Talk About Running            HarukiMurakami   \n38021                   When Women Ruled the World                KaraCooney   \n20260                   When Women Ruled the World                KaraCooney   \n22158                                Wings of Fire  APJAbdulKalam,ArunTiwari   \n64428                                Wings of Fire  APJAbdulKalam,ArunTiwari   \n\n           narrator releasedate language   price  rating_stars  n_ratings  \\\n63978  ThomasKrause    14-12-21   German   2.796           NaN        NaN   \n63965  ThomasKrause    23-12-21   German   2.796           NaN        NaN   \n24625      DonPiper    25-09-15  English   7.032           NaN        NaN   \n24116      DonPiper    15-10-20  English   7.032           NaN        NaN   \n16971     BillBrown    06-08-21  English   5.472           NaN        NaN   \n...             ...         ...      ...     ...           ...        ...   \n18338     RayPorter    07-07-16  English   4.776           4.5      193.0   \n38021    KaraCooney    30-11-18  English  10.032           4.5       14.0   \n20260    KaraCooney    30-11-18  English  10.032           4.5       13.0   \n22158  GirishKarnad    01-04-20  English   0.900           5.0     1823.0   \n64428  GirishKarnad    01-04-20  English   0.900           5.0     1827.0   \n\n       time_mins  \n63978        144  \n63965        144  \n24625        495  \n24116        495  \n16971         78  \n...          ...  \n18338        263  \n38021        555  \n20260        555  \n22158         75  \n64428         75  \n\n[139 rows x 9 columns]",
      "text/html": "<div>\n<style scoped>\n    .dataframe tbody tr th:only-of-type {\n        vertical-align: middle;\n    }\n\n    .dataframe tbody tr th {\n        vertical-align: top;\n    }\n\n    .dataframe thead th {\n        text-align: right;\n    }\n</style>\n<table border=\"1\" class=\"dataframe\">\n  <thead>\n    <tr style=\"text-align: right;\">\n      <th></th>\n      <th>name</th>\n      <th>author</th>\n      <th>narrator</th>\n      <th>releasedate</th>\n      <th>language</th>\n      <th>price</th>\n      <th>rating_stars</th>\n      <th>n_ratings</th>\n      <th>time_mins</th>\n    </tr>\n  </thead>\n  <tbody>\n    <tr>\n      <th>63978</th>\n      <td>\"Das Böse ist des Menschen beste Kraft\"</td>\n      <td>ChristianLiederer</td>\n      <td>ThomasKrause</td>\n      <td>14-12-21</td>\n      <td>German</td>\n      <td>2.796</td>\n      <td>NaN</td>\n      <td>NaN</td>\n      <td>144</td>\n    </tr>\n    <tr>\n      <th>63965</th>\n      <td>\"Das Böse ist des Menschen beste Kraft\"</td>\n      <td>ChristianLiederer</td>\n      <td>ThomasKrause</td>\n      <td>23-12-21</td>\n      <td>German</td>\n      <td>2.796</td>\n      <td>NaN</td>\n      <td>NaN</td>\n      <td>144</td>\n    </tr>\n    <tr>\n      <th>24625</th>\n      <td>90 Minutes in Heaven</td>\n      <td>DonPiper,CecilMurphey</td>\n      <td>DonPiper</td>\n      <td>25-09-15</td>\n      <td>English</td>\n      <td>7.032</td>\n      <td>NaN</td>\n      <td>NaN</td>\n      <td>495</td>\n    </tr>\n    <tr>\n      <th>24116</th>\n      <td>90 Minutes in Heaven</td>\n      <td>DonPiper,CecilMurphey</td>\n      <td>DonPiper</td>\n      <td>15-10-20</td>\n      <td>English</td>\n      <td>7.032</td>\n      <td>NaN</td>\n      <td>NaN</td>\n      <td>495</td>\n    </tr>\n    <tr>\n      <th>16971</th>\n      <td>Adagio in Dm</td>\n      <td>BillBrown</td>\n      <td>BillBrown</td>\n      <td>06-08-21</td>\n      <td>English</td>\n      <td>5.472</td>\n      <td>NaN</td>\n      <td>NaN</td>\n      <td>78</td>\n    </tr>\n    <tr>\n      <th>...</th>\n      <td>...</td>\n      <td>...</td>\n      <td>...</td>\n      <td>...</td>\n      <td>...</td>\n      <td>...</td>\n      <td>...</td>\n      <td>...</td>\n      <td>...</td>\n    </tr>\n    <tr>\n      <th>18338</th>\n      <td>What I Talk About When I Talk About Running</td>\n      <td>HarukiMurakami</td>\n      <td>RayPorter</td>\n      <td>07-07-16</td>\n      <td>English</td>\n      <td>4.776</td>\n      <td>4.5</td>\n      <td>193.0</td>\n      <td>263</td>\n    </tr>\n    <tr>\n      <th>38021</th>\n      <td>When Women Ruled the World</td>\n      <td>KaraCooney</td>\n      <td>KaraCooney</td>\n      <td>30-11-18</td>\n      <td>English</td>\n      <td>10.032</td>\n      <td>4.5</td>\n      <td>14.0</td>\n      <td>555</td>\n    </tr>\n    <tr>\n      <th>20260</th>\n      <td>When Women Ruled the World</td>\n      <td>KaraCooney</td>\n      <td>KaraCooney</td>\n      <td>30-11-18</td>\n      <td>English</td>\n      <td>10.032</td>\n      <td>4.5</td>\n      <td>13.0</td>\n      <td>555</td>\n    </tr>\n    <tr>\n      <th>22158</th>\n      <td>Wings of Fire</td>\n      <td>APJAbdulKalam,ArunTiwari</td>\n      <td>GirishKarnad</td>\n      <td>01-04-20</td>\n      <td>English</td>\n      <td>0.900</td>\n      <td>5.0</td>\n      <td>1823.0</td>\n      <td>75</td>\n    </tr>\n    <tr>\n      <th>64428</th>\n      <td>Wings of Fire</td>\n      <td>APJAbdulKalam,ArunTiwari</td>\n      <td>GirishKarnad</td>\n      <td>01-04-20</td>\n      <td>English</td>\n      <td>0.900</td>\n      <td>5.0</td>\n      <td>1827.0</td>\n      <td>75</td>\n    </tr>\n  </tbody>\n</table>\n<p>139 rows × 9 columns</p>\n</div>"
     },
     "execution_count": 27,
     "metadata": {},
     "output_type": "execute_result"
    }
   ],
   "source": [
    "# Check the duplicated rows keeping the duplicates and order by the name column\n",
    "audible[audible.duplicated(subset=subset_cols, keep=False)].sort_values(by=['name'])"
   ],
   "metadata": {
    "collapsed": false,
    "ExecuteTime": {
     "end_time": "2024-05-14T03:38:12.387266Z",
     "start_time": "2024-05-14T03:38:12.160982400Z"
    }
   },
   "id": "4c679e438e22899b"
  },
  {
   "cell_type": "code",
   "execution_count": 28,
   "outputs": [
    {
     "data": {
      "text/plain": "0"
     },
     "execution_count": 28,
     "metadata": {},
     "output_type": "execute_result"
    }
   ],
   "source": [
    "# Drop duplicated rows keeping the last release date (because the release date is already in the increasing order,\n",
    "# which means last occurrence is the latest record\n",
    "audible.drop_duplicates(subset=subset_cols, keep='last', inplace=True)\n",
    "\n",
    "# Check again for duplicates using our subset of columns\n",
    "audible.duplicated(subset=subset_cols).sum()"
   ],
   "metadata": {
    "collapsed": false,
    "ExecuteTime": {
     "end_time": "2024-05-14T03:38:41.253443700Z",
     "start_time": "2024-05-14T03:38:41.013975800Z"
    }
   },
   "id": "ac97e19e666917f3"
  },
  {
   "cell_type": "code",
   "execution_count": 29,
   "outputs": [
    {
     "data": {
      "text/plain": "name                0\nauthor              0\nnarrator            0\nreleasedate         0\nlanguage            0\nprice               0\nrating_stars    72387\nn_ratings       72387\ntime_mins           0\ndtype: int64"
     },
     "execution_count": 29,
     "metadata": {},
     "output_type": "execute_result"
    }
   ],
   "source": [
    "\"\"\"Task 8: Dealing with missing data\"\"\"\n",
    "# Check for null values\n",
    "audible.isna().sum()\n",
    "# We don't handle null values here because there are too much of them, so it can result in bias for analysis.\n"
   ],
   "metadata": {
    "collapsed": false,
    "ExecuteTime": {
     "end_time": "2024-05-14T03:38:45.492012800Z",
     "start_time": "2024-05-14T03:38:45.447177Z"
    }
   },
   "id": "c04073a7281afeb1"
  },
  {
   "cell_type": "code",
   "execution_count": 30,
   "outputs": [],
   "source": [
    "\"\"\"Task 9: Save the cleaned data set\"\"\"\n",
    "# Save the dataframe to a new file: 'audible_clean.csv'\n",
    "audible.to_csv('audible_clean.csv', index=False)"
   ],
   "metadata": {
    "collapsed": false,
    "ExecuteTime": {
     "end_time": "2024-05-14T03:41:56.988164300Z",
     "start_time": "2024-05-14T03:41:56.248868Z"
    }
   },
   "id": "78e0cbf95b2bb06a"
  },
  {
   "cell_type": "markdown",
   "source": [],
   "metadata": {
    "collapsed": false
   },
   "id": "e55b8077150d442"
  }
 ],
 "metadata": {
  "kernelspec": {
   "display_name": "Python 3",
   "language": "python",
   "name": "python3"
  },
  "language_info": {
   "codemirror_mode": {
    "name": "ipython",
    "version": 2
   },
   "file_extension": ".py",
   "mimetype": "text/x-python",
   "name": "python",
   "nbconvert_exporter": "python",
   "pygments_lexer": "ipython2",
   "version": "2.7.6"
  }
 },
 "nbformat": 4,
 "nbformat_minor": 5
}
