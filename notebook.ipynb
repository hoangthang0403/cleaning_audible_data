{
 "cells": [
  {
   "cell_type": "code",
   "execution_count": null,
   "id": "initial_id",
   "metadata": {
    "collapsed": true
   },
   "outputs": [],
   "source": [
    "import pandas as pd\n",
    "import numpy as np\n",
    "import matplotlib.pyplot as plt"
   ]
  },
  {
   "cell_type": "code",
   "execution_count": null,
   "outputs": [],
   "source": [
    "\"\"\"Task 1: Loading and Inspecting the Data\"\"\"\n",
    "# Load the audible_raw.csv file\n",
    "audible = pd.read_csv(\"audible_raw.csv\")\n",
    "\n",
    "# View the first rows of the dataframe\n",
    "audible.head()"
   ],
   "metadata": {
    "collapsed": false
   },
   "id": "3c9c08b5b399f0c5"
  },
  {
   "cell_type": "code",
   "execution_count": null,
   "outputs": [],
   "source": [
    "# Inspect the columns' data types\n",
    "audible.info()"
   ],
   "metadata": {
    "collapsed": false
   },
   "id": "4bdb9956cbdb1bde"
  },
  {
   "cell_type": "code",
   "execution_count": null,
   "outputs": [],
   "source": [
    "\"\"\"Task 2: Clean text data in Author and Narrator columns\"\"\"\n",
    "# Remove Writtenby: from the author column\n",
    "audible['author'] = audible['author'].str.replace('Writtenby:', '')\n",
    "# Remove Narratedby: from the narrator column\n",
    "audible['narrator'] = audible['narrator'].str.replace('Narratedby:', '')\n"
   ],
   "metadata": {
    "collapsed": false
   },
   "id": "5e5142d514a7face"
  },
  {
   "cell_type": "code",
   "execution_count": null,
   "outputs": [],
   "source": [
    "\"\"\"Task 3: Extract number of stars and ratings from Stars column.\"\"\"\n",
    "# Get a glimpse of the stars column\n",
    "audible.stars.sample(n=10)\n",
    "\n",
    "# Explore the values of the star column that are not 'Not rated yet'\n",
    "audible[audible.stars != 'Not rated yet'].stars.sample(n=10)\n",
    "\n",
    "# Replace 'Not rated yet' with NaN\n",
    "audible.stars.replace('Not rated yet', np.nan, inplace=True)\n",
    "\n",
    "# Extract number of stars into rating_stars and turn into float\n",
    "audible['rating_stars'] = audible['stars'].str.extract('^([\\d.]+)').astype(float)\n",
    "\n",
    "# Replace the comma, extract number of ratings into n_ratings and turn into float\n",
    "audible['n_ratings'] = audible['stars'].str.replace(',', '').str.extract('(\\d+) rating').astype(float)\n",
    "\n",
    "# Examine the new rating_stars and n_ratings columns\n",
    "audible[['rating_stars', 'n_ratings']]\n",
    "\n",
    "# Drop the stars column\n",
    "audible.drop('stars', axis=1, inplace=True)\n",
    "\n",
    "# Check the results\n",
    "audible"
   ],
   "metadata": {
    "collapsed": false
   },
   "id": "f246447d5e59986f"
  },
  {
   "cell_type": "code",
   "execution_count": null,
   "outputs": [],
   "source": [
    "\"\"\"Task 4: Change data types\"\"\"\n",
    "\n",
    "# Explore the price column\n",
    "audible.price.sample(n=10)\n",
    "\n",
    "# Replace the comma with ''\n",
    "audible['price'] = audible.price.str.replace(',', '')\n",
    "\n",
    "# Replace 'Free' with 0\n",
    "audible['price'] = audible.price.str.replace('Free', '0')\n",
    "\n",
    "# Turn price to float\n",
    "audible['price'] = audible.price.astype(float)\n",
    "\n",
    "# Look at the unique values in the rating_stars column\n",
    "audible.rating_stars.unique()\n",
    "\n",
    "# Turn rating_stars to category\n",
    "audible['rating_stars'] = audible.rating_stars.astype('category')\n",
    "\n",
    "# Convert releasedate to datetime\n",
    "audible['releasedate'] = pd.to_datetime(audible.releasedate)\n",
    "\n",
    "# Inspect the dataframe\n",
    "audible.info()\n"
   ],
   "metadata": {
    "collapsed": false
   },
   "id": "cbe3230ed433a8be"
  },
  {
   "cell_type": "code",
   "execution_count": null,
   "outputs": [],
   "source": [
    "\"\"\"Task 5: Extract hours and minutes from the time column\"\"\"\n",
    "\n",
    "# Explore the values in the time column\n",
    "audible.time.sample(n=10)\n",
    "\n",
    "# Search the entries in the time column for different spellings of min. Let' try min, mins, minutes\n",
    "audible.time[audible.time.str.contains('min')].sample(n=10)\n",
    "\n",
    "# Replace hrs, mins, and 'Less than 1 minute'\n",
    "audible['time'] = audible.time.str.replace('hrs', 'hr')\n",
    "audible['time'] = audible.time.str.replace('mins', 'min')\n",
    "audible['time'] = audible.time.str.replace('Less than 1 minute', '1 min')\n",
    "\n",
    "# Check the results\n",
    "audible[['time']]\n",
    "\n",
    "# Extract the number of hours, turn to integer\n",
    "hours = audible['time'].str.extract('(\\d+) hr').fillna(0).astype(int)\n",
    "\n",
    "# Extract the number of minutes, turn to integer\n",
    "mins = audible['time'].str.extract('(\\d+) min').fillna(0).astype(int)\n",
    "\n",
    "# Combine hours and minutes into the time_mins column\n",
    "audible['time_mins'] = 60 * hours + mins\n",
    "\n",
    "# Check the results\n",
    "audible[['time_mins']]\n",
    "\n",
    "# Drop the time column\n",
    "audible.drop(columns=['time'], axis=1, inplace=True)\n",
    "\n",
    "# Inspect the dataframe\n",
    "audible.info()"
   ],
   "metadata": {
    "collapsed": false
   },
   "id": "9c655a5a9ef20dab"
  },
  {
   "cell_type": "code",
   "execution_count": null,
   "outputs": [],
   "source": [
    "\"\"\"Task 6: Check data ranges\"\"\"\n",
    "\n",
    "# Plot histograms of all the numerical columns\n",
    "audible.hist(figsize=(10,10), bins=100)\n",
    "plt.show()\n",
    "\n",
    "# Look at the numeric columns\n",
    "audible.describe()\n",
    "\n",
    "# Look at the non numeric columns\n",
    "audible.describe(exclude=[np.number])\n",
    "\n",
    "# Transform prices to USD (multiply times 0.012)\n",
    "audible['price'] = audible.price * .012\n",
    "\n",
    "# Check the results\n",
    "audible['price'].describe()\n",
    "\n",
    "# Inspect the language column before making changes\n",
    "audible.language.unique()\n",
    "\n",
    "# Update capitalization in the language column\n",
    "audible['language'] = audible.language.str.capitalize()\n",
    "\n",
    "# Check the results\n",
    "audible.language.unique()"
   ],
   "metadata": {
    "collapsed": false
   },
   "id": "d0362cde3822f5ab"
  },
  {
   "cell_type": "code",
   "execution_count": null,
   "outputs": [],
   "source": [
    "\"\"\"Task 7: Checking for duplicates\"\"\"\n",
    "\n",
    "# Look for duplicate rows\n",
    "audible.duplicated().sum()\n",
    "\n",
    "# Create a list of our subset columns and assign to subset_cols\n",
    "subset_cols=['name', 'author', 'narrator', 'time_mins', 'price']\n",
    "\n",
    "# Check for duplicates using our subset of columns\n",
    "audible.duplicated(subset=subset_cols).sum()\n",
    "\n",
    "# Check the duplicated rows keeping the duplicates and order by the name column\n",
    "audible[audible.duplicated(subset=subset_cols, keep=False)].sort_values(by=['name'])\n",
    "\n",
    "# Drop duplicated rows keeping the last release date (because the release date is already in the increasing order,\n",
    "# which means last occurrence is the latest record\n",
    "audible.drop_duplicates(subset=subset_cols, keep='last', inplace=True)\n",
    "\n",
    "# Check again for duplicates using our subset of columns\n",
    "audible.duplicated(subset=subset_cols).sum()"
   ],
   "metadata": {
    "collapsed": false
   },
   "id": "ac97e19e666917f3"
  },
  {
   "cell_type": "code",
   "execution_count": 2,
   "outputs": [
    {
     "ename": "NameError",
     "evalue": "name 'audible' is not defined",
     "output_type": "error",
     "traceback": [
      "\u001B[1;31m---------------------------------------------------------------------------\u001B[0m",
      "\u001B[1;31mNameError\u001B[0m                                 Traceback (most recent call last)",
      "Cell \u001B[1;32mIn[2], line 3\u001B[0m\n\u001B[0;32m      1\u001B[0m \u001B[38;5;124;03m\"\"\"Task 8: Dealing with missing data\"\"\"\u001B[39;00m\n\u001B[0;32m      2\u001B[0m \u001B[38;5;66;03m# Check for null values\u001B[39;00m\n\u001B[1;32m----> 3\u001B[0m \u001B[43maudible\u001B[49m\u001B[38;5;241m.\u001B[39misna()\u001B[38;5;241m.\u001B[39msum()\n",
      "\u001B[1;31mNameError\u001B[0m: name 'audible' is not defined"
     ]
    }
   ],
   "source": [
    "\"\"\"Task 8: Dealing with missing data\"\"\"\n",
    "# Check for null values\n",
    "audible.isna().sum()\n",
    "# We don't handle null values here because there are too much of them, so it can result in bias for analysis.\n"
   ],
   "metadata": {
    "collapsed": false,
    "ExecuteTime": {
     "end_time": "2024-05-02T10:08:11.957787500Z",
     "start_time": "2024-05-02T10:08:11.871598500Z"
    }
   },
   "id": "c04073a7281afeb1"
  },
  {
   "cell_type": "code",
   "execution_count": null,
   "outputs": [],
   "source": [
    "\"\"\"Task 9: Save the cleaned data set\"\"\"\n",
    "# Save the dataframe to a new file: 'audible_clean.csv'\n",
    "audible.to_csv('audible_clean.csv', index=False)"
   ],
   "metadata": {
    "collapsed": false
   },
   "id": "78e0cbf95b2bb06a"
  },
  {
   "cell_type": "markdown",
   "source": [],
   "metadata": {
    "collapsed": false
   },
   "id": "e55b8077150d442"
  }
 ],
 "metadata": {
  "kernelspec": {
   "display_name": "Python 3",
   "language": "python",
   "name": "python3"
  },
  "language_info": {
   "codemirror_mode": {
    "name": "ipython",
    "version": 2
   },
   "file_extension": ".py",
   "mimetype": "text/x-python",
   "name": "python",
   "nbconvert_exporter": "python",
   "pygments_lexer": "ipython2",
   "version": "2.7.6"
  }
 },
 "nbformat": 4,
 "nbformat_minor": 5
}
